{
 "cells": [
  {
   "cell_type": "code",
   "execution_count": 1,
   "metadata": {},
   "outputs": [],
   "source": [
    "# Initial imports\n",
    "\n",
    "import requests\n",
    "import pandas as pd\n",
    "import json\n",
    "import csv\n",
    "import datetime\n",
    "from pathlib import Path\n",
    "\n",
    "\n",
    "%matplotlib inline"
   ]
  },
  {
   "cell_type": "code",
   "execution_count": 29,
   "metadata": {},
   "outputs": [],
   "source": [
    "# Use the Pathlib libary to set the path to the CSV\n",
    "\n",
    "csv_path = Path(\"C:\\\\Users\\\\Airma\\\\FinTechClass\\\\Projects\\Miami-FinTech-Project-1-Team-2\\Data Collection\\Resources\\dictionary_of_hotspots.csv\")"
   ]
  },
  {
   "cell_type": "code",
   "execution_count": 58,
   "metadata": {},
   "outputs": [],
   "source": [
    "# Import dictionary of hotspots\n",
    "\n",
    "dictionary_of_hotspots = pd.read_csv(csv_path, index_col=False)\n",
    "\n",
    "dictionary_of_hotspots.iloc[0:1]\n",
    "\n",
    "test_dictionary = [{\"name\" : \"address\"}]\n",
    "\n"
   ]
  },
  {
   "cell_type": "code",
   "execution_count": 60,
   "metadata": {},
   "outputs": [],
   "source": [
    "\n",
    "# Define hotspots in a dictionary\n",
    "hotspots = [\n",
    "{\"name\" : \"obedient_metal_eel\" , \"address\" : \"112Jcpn5VxeUwgN2pemxvqUxCZRVPdDxSnBhGNs4DawoQbApPJXj\"},\n",
    "{\"name\" : \"striped_teal_baboon\" , \"address\" : \"1128typ6HXPcRrHjWbH9imiatwYUgDSAeZVEUSd3jR5ZrNtGLYqT\"},\n",
    "{\"name\" : \"huge_emerald_griffin\" , \"address\" : \"112MndmvNGPPswEmorzgdnUWvzfoCPsmmu7FRgyV5ChC8xCYfcCr\"},\n",
    "{\"name\" : \"wide_beige_hornet\" , \"address\" : \"11CP1Gub5h9ma8aZB4x3AAaAEnNTWrJwzJ2zkRm7kmd1mXZaJ6z\"},\n",
    "{\"name\" : \"fast_burlap_aphid\" , \"address\" : \"119d67CMgUGwG5F5pvfta1x5ZYyEdKb4esTzhxUmRDHSx8WF3W3\"},\n",
    "{\"name\" : \"original_peanut_snail\" , \"address\" : \"11PQPTveG9FpnroRGAXk2SnJct6uc55VuFu3jPezMTKej42QtXc\"},\n",
    "{\"name\" : \"skinny_blue_sidewinder\" , \"address\" : \"112XEkYKA8qrVcE5czdCGBc5SUSoaLB4zyrruAP6zLjuxGDPUujy\"},\n",
    "{\"name\" : \"high_beige_lobster\" , \"address\" : \"11yXfHavtLr4DPtawF2xsBq9fovwgNAKFv5fuvhGP3c2utrwxSN\"},\n",
    "{\"name\" : \"short_carrot_lemur\" , \"address\" : \"11a8pE8mBKhvjwcQKrPdGUVAbXP41TKQVgka8GNQi7iuF8BPi11\"},\n",
    "{\"name\" : \"puny_tan_rhino\" , \"address\" : \"112eXCc3DWcXnWpmhqkARQSdnPXa3PHQDju2n77stfmaqVLxXAjh\"},\n",
    "{\"name\" : \"polite_brown_cormorant\" , \"address\" : \"1123xmxiQD94p5p97zDWRtoqxQ3ZGeBpqanvBwNouUpSdj1gso8X\"},\n",
    "{\"name\" : \"creamy_mango_porcupine\" , \"address\" : \"11iW5JUrtstmpdDTGn9Y81fYETb2bXuVFk5v1pbdjoYYf4T9CXz\"},\n",
    "{\"name\" : \"trendy_caramel_dalmatian\" , \"address\" : \"11CoaWTEy22d54UhyjFvSkFw24mtg5wiD9p6n9fpAuEqYyjaxvR\"},\n",
    "{\"name\" : \"clean_beige_cormorant\" , \"address\" : \"11xo6DEcyibrNhUQCS7SUU2L3Zpp6wC4aPrtatBqWAZatoN3Zrb\"},\n",
    "{\"name\" : \"trendy_caramel_dalmatian\" , \"address\" : \"11CoaWTEy22d54UhyjFvSkFw24mtg5wiD9p6n9fpAuEqYyjaxvR\"},\n",
    "{\"name\" : \"bright_syrup_lion\" , \"address\" : \"112nrSVapnRpXZ9Fv4bxby6SG79T3C5dZPJm93jPwCoff8zvDe4b\"},\n",
    "{\"name\" : \"trendy_coal_ladybug\" , \"address\" : \"11T6rmYJxBeTR8RfXjSWYegFkFkBmEUkE5r3s5bQqNP8KdFpzhP\"},\n",
    "{\"name\" : \"Future Cloth Cormorant\" , \"address\" : \"1122JESH8CYx1vRiwrPDQxFMGpa5WE38K5Uu43m5TJQJ4bFQqTBm\"},\n",
    "\n",
    "        ]\n",
    "\n",
    "all_rewards = {}\n",
    "process_date = True \n",
    "dates = []\n",
    "\n",
    "\n",
    "# Loop through hotspot dictionary to pull last 30 days of rewards per hotspot\n",
    "\n",
    "for hotspot in hotspots:\n",
    "    hotspot_info = (\"https://api.helium.io/v1/hotspots/\" + hotspot[\"address\"] + \"/\" + \"rewards/sum?min_time=-30%20day&bucket=day\")\n",
    "    response = requests.get(hotspot_info)\n",
    "    rewards_30_day = response.json()\n",
    "    #print(hotspot[\"name\"])\n",
    "    last_30_days_reward_per_hotspot = []\n",
    "    for reward in rewards_30_day[\"data\"]:\n",
    "        total = reward[\"total\"]\n",
    "        if process_date: \n",
    "            date = reward[\"timestamp\"]           \n",
    "            dates.append(date)\n",
    "        last_30_days_reward_per_hotspot.append(total)\n",
    "    process_date = False\n",
    "    all_rewards[hotspot[\"name\"]] = last_30_days_reward_per_hotspot\n",
    "    \n",
    "#print(all_rewards)"
   ]
  },
  {
   "cell_type": "code",
   "execution_count": 61,
   "metadata": {},
   "outputs": [
    {
     "name": "stdout",
     "output_type": "stream",
     "text": [
      "          Date  obedient_metal_eel  striped_teal_baboon  huge_emerald_griffin  \\\n",
      "0   2021-10-15            0.777751             0.110314              0.262972   \n",
      "1   2021-10-14            0.431561             0.131169              0.274418   \n",
      "2   2021-10-13            0.822751             0.123848              0.184292   \n",
      "3   2021-10-12            0.639473             0.130953              0.186961   \n",
      "4   2021-10-11            0.499128             0.061440              0.123665   \n",
      "5   2021-10-10            0.556667             0.067342              0.390865   \n",
      "6   2021-10-09            0.548879             0.067493              0.274772   \n",
      "7   2021-10-08            0.672536             0.137082              0.294795   \n",
      "8   2021-10-07            0.520590             0.189834              0.377877   \n",
      "9   2021-10-06            0.321590             0.120846              0.219607   \n",
      "10  2021-10-05            0.261257             0.026246              0.288637   \n",
      "11  2021-10-04            0.462239             0.237004              0.236672   \n",
      "12  2021-10-03            0.252867             0.093115              0.324568   \n",
      "13  2021-10-02            0.342851             0.116238              0.399723   \n",
      "14  2021-10-01            0.040963             0.052219              0.512442   \n",
      "15  2021-09-30            0.087295             0.184526              0.305506   \n",
      "16  2021-09-29            0.296390             0.050472              0.305254   \n",
      "17  2021-09-28            0.268757             0.125382              0.229769   \n",
      "18  2021-09-27            0.219015             0.204359              0.458068   \n",
      "19  2021-09-26            0.250916             0.169685              0.370376   \n",
      "20  2021-09-25            0.239426             0.131941              0.331601   \n",
      "21  2021-09-24            0.211839             0.150470              0.403444   \n",
      "22  2021-09-23            0.388625             0.043251              0.317280   \n",
      "23  2021-09-22            0.457460             0.116982              0.221716   \n",
      "24  2021-09-21            0.234823             0.137529              0.223289   \n",
      "25  2021-09-20            0.351942             0.035863              0.328977   \n",
      "26  2021-09-19            0.411667             0.152184              0.231345   \n",
      "27  2021-09-18            0.120188             0.079705              0.351525   \n",
      "28  2021-09-17            0.300779             0.095913              0.363737   \n",
      "29  2021-09-16            0.279294             0.196988              0.203277   \n",
      "\n",
      "    wide_beige_hornet  \n",
      "0            0.245248  \n",
      "1            0.318103  \n",
      "2            0.249599  \n",
      "3            0.147496  \n",
      "4            0.169554  \n",
      "5            0.244186  \n",
      "6            0.200785  \n",
      "7            0.049946  \n",
      "8            0.430648  \n",
      "9            0.422954  \n",
      "10           0.296957  \n",
      "11           0.344109  \n",
      "12           0.282672  \n",
      "13           0.315279  \n",
      "14           0.234625  \n",
      "15           0.337765  \n",
      "16           0.361559  \n",
      "17           0.178793  \n",
      "18           0.573752  \n",
      "19           0.307267  \n",
      "20           0.448017  \n",
      "21           0.454942  \n",
      "22           0.522330  \n",
      "23           0.617032  \n",
      "24           0.277928  \n",
      "25           0.592304  \n",
      "26           0.373925  \n",
      "27           0.540553  \n",
      "28           0.527685  \n",
      "29           0.649375  \n"
     ]
    }
   ],
   "source": [
    "df_hotspot_rewards_info = pd.DataFrame(all_rewards)\n",
    "\n",
    "# Concatanate list of dates with above DataFrame\n",
    "df_hotspot_rewards_info.insert(0, \"Date\",pd.to_datetime(dates))  \n",
    "\n",
    "# Set date format\n",
    "df_hotspot_rewards_info[\"Date\"] = df_hotspot_rewards_info[\"Date\"].dt.date\n",
    "\n",
    "\n",
    "print(df_hotspot_rewards_info)\n",
    "\n"
   ]
  },
  {
   "cell_type": "code",
   "execution_count": 172,
   "metadata": {},
   "outputs": [],
   "source": [
    "df_hotspot_rewards_info.to_csv(\"hotspot_rewards_past_30_days.csv\", index = False)"
   ]
  },
  {
   "cell_type": "code",
   "execution_count": null,
   "metadata": {},
   "outputs": [],
   "source": [
    "\n",
    "\n"
   ]
  },
  {
   "cell_type": "code",
   "execution_count": null,
   "metadata": {},
   "outputs": [],
   "source": []
  },
  {
   "cell_type": "code",
   "execution_count": null,
   "metadata": {},
   "outputs": [],
   "source": [
    "\n",
    "  \n",
    "   \n"
   ]
  },
  {
   "cell_type": "code",
   "execution_count": null,
   "metadata": {},
   "outputs": [],
   "source": [
    "\n"
   ]
  },
  {
   "cell_type": "code",
   "execution_count": null,
   "metadata": {},
   "outputs": [],
   "source": []
  }
 ],
 "metadata": {
  "interpreter": {
   "hash": "a69dba933c6b8185488e89e7a06f7aca9551140e90f608799b32574f8ad3faa0"
  },
  "kernelspec": {
   "display_name": "Python 3.8.8 64-bit ('FinTech': conda)",
   "name": "python3"
  },
  "language_info": {
   "codemirror_mode": {
    "name": "ipython",
    "version": 3
   },
   "file_extension": ".py",
   "mimetype": "text/x-python",
   "name": "python",
   "nbconvert_exporter": "python",
   "pygments_lexer": "ipython3",
   "version": "3.8.8"
  },
  "orig_nbformat": 4
 },
 "nbformat": 4,
 "nbformat_minor": 2
}
