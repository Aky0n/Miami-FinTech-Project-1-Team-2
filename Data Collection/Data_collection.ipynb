{
 "cells": [
  {
   "cell_type": "code",
   "execution_count": 76,
   "metadata": {},
   "outputs": [],
   "source": [
    "# Initial imports\n",
    "\n",
    "import requests\n",
    "import pandas as pd\n",
    "import json\n",
    "import csv\n",
    "import datetime\n",
    "\n",
    "%matplotlib inline"
   ]
  },
  {
   "cell_type": "code",
   "execution_count": 81,
   "metadata": {},
   "outputs": [
    {
     "name": "stdout",
     "output_type": "stream",
     "text": [
      "['2021-10-15T17:58:55.000000Z', '2021-10-14T17:58:55.000000Z', '2021-10-13T17:58:55.000000Z', '2021-10-12T17:58:55.000000Z', '2021-10-11T17:58:55.000000Z', '2021-10-10T17:58:55.000000Z', '2021-10-09T17:58:55.000000Z', '2021-10-08T17:58:55.000000Z', '2021-10-07T17:58:55.000000Z', '2021-10-06T17:58:55.000000Z', '2021-10-05T17:58:55.000000Z', '2021-10-04T17:58:55.000000Z', '2021-10-03T17:58:55.000000Z', '2021-10-02T17:58:55.000000Z', '2021-10-01T17:58:55.000000Z', '2021-09-30T17:58:55.000000Z', '2021-09-29T17:58:55.000000Z', '2021-09-28T17:58:55.000000Z', '2021-09-27T17:58:55.000000Z', '2021-09-26T17:58:55.000000Z', '2021-09-25T17:58:55.000000Z', '2021-09-24T17:58:55.000000Z', '2021-09-23T17:58:55.000000Z', '2021-09-22T17:58:55.000000Z', '2021-09-21T17:58:55.000000Z', '2021-09-20T17:58:55.000000Z', '2021-09-19T17:58:55.000000Z', '2021-09-18T17:58:55.000000Z', '2021-09-17T17:58:55.000000Z', '2021-09-16T17:58:55.000000Z']\n"
     ]
    }
   ],
   "source": [
    "# Real Code\n",
    "\n",
    "# Define hotspots in a dictionary\n",
    "hotspots = [{\"name\" : \"obedient_metal_eel\" , \"address\" : \"112Jcpn5VxeUwgN2pemxvqUxCZRVPdDxSnBhGNs4DawoQbApPJXj\"},\n",
    "{\"name\" : \"striped_teal_baboon\" , \"address\" : \"1128typ6HXPcRrHjWbH9imiatwYUgDSAeZVEUSd3jR5ZrNtGLYqT\"},\n",
    "{\"name\" : \"huge_emerald_griffin\" , \"address\" : \"112MndmvNGPPswEmorzgdnUWvzfoCPsmmu7FRgyV5ChC8xCYfcCr\"},\n",
    "{\"name\" : \"wide_beige_hornet\" , \"address\" : \"11CP1Gub5h9ma8aZB4x3AAaAEnNTWrJwzJ2zkRm7kmd1mXZaJ6z\"}]\n",
    "\n",
    "all_rewards = {}\n",
    "process_date = True \n",
    "dates = []\n",
    "\n",
    "\n",
    "# Loop through hotspot dictionary to pull last 30 days of rewards per hotspot\n",
    "\n",
    "for hotspot in hotspots:\n",
    "    hotspot_info = (\"https://api.helium.io/v1/hotspots/\" + hotspot[\"address\"] + \"/\" + \"rewards/sum?min_time=-30%20day&bucket=day\")\n",
    "    response = requests.get(hotspot_info)\n",
    "    rewards_30_day = response.json()\n",
    "    #print(hotspot[\"name\"])\n",
    "    last_30_days_reward_per_hotspot = []\n",
    "    for reward in rewards_30_day[\"data\"]:\n",
    "        total = reward[\"total\"]\n",
    "        if process_date: \n",
    "            date = reward[\"timestamp\"]\n",
    "            # Turn dates into date instead of datetime\n",
    "            #date = datetime.date(date)\n",
    "            dates.append(date)\n",
    "        last_30_days_reward_per_hotspot.append(total)\n",
    "    process_date = False\n",
    "    all_rewards[hotspot[\"name\"]] = last_30_days_reward_per_hotspot\n",
    "#print(all_rewards)\n",
    "    \n",
    "print(dates)"
   ]
  },
  {
   "cell_type": "code",
   "execution_count": 83,
   "metadata": {},
   "outputs": [
    {
     "name": "stdout",
     "output_type": "stream",
     "text": [
      "    obedient_metal_eel  striped_teal_baboon  huge_emerald_griffin  \\\n",
      "0             0.756404             0.070494              0.244325   \n",
      "1             0.617701             0.121052              0.269465   \n",
      "2             0.747929             0.109848              0.165694   \n",
      "3             0.566556             0.130953              0.186961   \n",
      "4             0.441247             0.083777              0.181102   \n",
      "5             0.625720             0.049455              0.399072   \n",
      "6             0.633622             0.068628              0.209128   \n",
      "7             0.586809             0.164659              0.356185   \n",
      "8             0.461826             0.161423              0.327248   \n",
      "9             0.375529             0.116097              0.214576   \n",
      "10            0.277299             0.059988              0.287518   \n",
      "11            0.462076             0.203262              0.298499   \n",
      "12            0.173742             0.097993              0.383585   \n",
      "13            0.383814             0.139694              0.398374   \n",
      "14            0.000000             0.033999              0.411470   \n",
      "15            0.160868             0.179895              0.323476   \n",
      "16            0.281170             0.044989              0.301038   \n",
      "17            0.287728             0.152670              0.262116   \n",
      "18            0.186977             0.182267              0.400730   \n",
      "19            0.272083             0.164489              0.364561   \n",
      "20            0.172973             0.183664              0.402585   \n",
      "21            0.338537             0.098748              0.413521   \n",
      "22            0.261926             0.043250              0.258556   \n",
      "23            0.555775             0.122520              0.210253   \n",
      "24            0.173242             0.136717              0.257114   \n",
      "25            0.315208             0.071071              0.278192   \n",
      "26            0.454678             0.118637              0.238737   \n",
      "27            0.110113             0.073318              0.362584   \n",
      "28            0.280215             0.095913              0.361657   \n",
      "29            0.266923             0.205443              0.257766   \n",
      "\n",
      "    wide_beige_hornet       dates  \n",
      "0            0.239109  2021-10-15  \n",
      "1            0.324154  2021-10-14  \n",
      "2            0.257998  2021-10-13  \n",
      "3            0.121259  2021-10-12  \n",
      "4            0.213906  2021-10-11  \n",
      "5            0.225379  2021-10-10  \n",
      "6            0.225177  2021-10-09  \n",
      "7            0.107675  2021-10-08  \n",
      "8            0.341717  2021-10-07  \n",
      "9            0.433799  2021-10-06  \n",
      "10           0.310980  2021-10-05  \n",
      "11           0.340788  2021-10-04  \n",
      "12           0.258212  2021-10-03  \n",
      "13           0.318500  2021-10-02  \n",
      "14           0.300164  2021-10-01  \n",
      "15           0.257539  2021-09-30  \n",
      "16           0.410548  2021-09-29  \n",
      "17           0.279277  2021-09-28  \n",
      "18           0.461933  2021-09-27  \n",
      "19           0.291298  2021-09-26  \n",
      "20           0.501376  2021-09-25  \n",
      "21           0.416883  2021-09-24  \n",
      "22           0.556650  2021-09-23  \n",
      "23           0.650526  2021-09-22  \n",
      "24           0.222810  2021-09-21  \n",
      "25           0.564296  2021-09-20  \n",
      "26           0.483572  2021-09-19  \n",
      "27           0.506927  2021-09-18  \n",
      "28           0.509303  2021-09-17  \n",
      "29           0.623689  2021-09-16  \n"
     ]
    }
   ],
   "source": [
    "df_hotspot_info = pd.DataFrame(all_rewards)\n",
    "\n",
    "# Concatate list of dates with above DataFrame\n",
    "df_hotspot_info[\"dates\"] = pd.to_datetime(dates)\n",
    "\n",
    "df_hotspot_info[\"dates\"] = df_hotspot_info[\"dates\"].dt.date\n",
    "\n",
    "\n",
    "print(df_hotspot_info)\n",
    "\n",
    "df_hotspot_info.to_csv(\"hot_spot_data.csv\", index = False)"
   ]
  },
  {
   "cell_type": "code",
   "execution_count": null,
   "metadata": {},
   "outputs": [],
   "source": []
  },
  {
   "cell_type": "code",
   "execution_count": 194,
   "metadata": {},
   "outputs": [],
   "source": [
    "\n",
    "\n"
   ]
  },
  {
   "cell_type": "code",
   "execution_count": null,
   "metadata": {},
   "outputs": [],
   "source": []
  },
  {
   "cell_type": "code",
   "execution_count": null,
   "metadata": {},
   "outputs": [],
   "source": [
    "\n",
    "  \n",
    "   \n"
   ]
  },
  {
   "cell_type": "code",
   "execution_count": null,
   "metadata": {},
   "outputs": [],
   "source": [
    "\n"
   ]
  },
  {
   "cell_type": "code",
   "execution_count": null,
   "metadata": {},
   "outputs": [],
   "source": []
  }
 ],
 "metadata": {
  "interpreter": {
   "hash": "a69dba933c6b8185488e89e7a06f7aca9551140e90f608799b32574f8ad3faa0"
  },
  "kernelspec": {
   "display_name": "Python 3.8.8 64-bit ('FinTech': conda)",
   "name": "python3"
  },
  "language_info": {
   "codemirror_mode": {
    "name": "ipython",
    "version": 3
   },
   "file_extension": ".py",
   "mimetype": "text/x-python",
   "name": "python",
   "nbconvert_exporter": "python",
   "pygments_lexer": "ipython3",
   "version": "3.8.8"
  },
  "orig_nbformat": 4
 },
 "nbformat": 4,
 "nbformat_minor": 2
}
